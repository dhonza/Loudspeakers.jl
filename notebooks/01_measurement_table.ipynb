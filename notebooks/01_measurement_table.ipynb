{
 "cells": [
  {
   "cell_type": "code",
   "execution_count": null,
   "metadata": {},
   "outputs": [],
   "source": [
    "using Pkg\n",
    "using Revise\n",
    "\n",
    "using FileIO\n",
    "using Logging\n",
    "using Plots\n",
    "using Printf\n",
    "using Statistics\n",
    "using IntervalSets\n",
    "using Unitful\n",
    "using Unitful: ns, ms, µs, s, Hz, kHz, MHz, GHz, THz, m\n",
    "\n",
    "using DSP\n",
    "using FFTW\n",
    "\n",
    "using HTTP\n",
    "using JSON\n",
    "\n",
    "using SampleArrays\n",
    "using Loudspeakers\n",
    "using PortAudioBindings\n",
    "\n",
    "pyplot() # the default GR is slow for large graphs"
   ]
  },
  {
   "cell_type": "markdown",
   "metadata": {},
   "source": [
    "The aim of this notebook is to decide and validate all steps needed for full directivty measurements using measurement turntable."
   ]
  },
  {
   "cell_type": "markdown",
   "metadata": {},
   "source": [
    "## TODOs\n",
    "* `alignsignals`, `finddelay`, ... for `SampleArrays` - mostly done - check what is missing\n",
    "* make `expsweep.jl` better integrated with `SampleArrays`, i.e. work directly with them; check whole code according to the paper\n",
    "* SampleArrays - tests, documentation + possibility to name channels?\n",
    "* Replace Ecasound recording by own solution (ALSA or PulseAudio) - can't solve PortAudio's output underruns :(\n",
    "* Shouldn't `miccalibrate` and similar methods work with logs (dBs) for better numerical stability? What about different storage options for amplitude/dBs? "
   ]
  },
  {
   "cell_type": "markdown",
   "metadata": {},
   "source": [
    "If FFTW crashes, try rebuilding with MKL: https://github.com/JuliaMath/FFTW.jl"
   ]
  },
  {
   "cell_type": "code",
   "execution_count": null,
   "metadata": {},
   "outputs": [],
   "source": [
    "c = 344m/s\n",
    "samplerate = 44100Hz\n",
    "calfile = \"../data/34Q956_cal_0degree.txt\"\n",
    "stimulus = expsweep(1s; samplerate=samplerate, gain=0.9, optimize=false)\n",
    "xstimulus = SampleArray(stimulus.sig, samplerate)"
   ]
  },
  {
   "cell_type": "code",
   "execution_count": null,
   "metadata": {},
   "outputs": [],
   "source": [
    "plot(xstimulus)"
   ]
  },
  {
   "cell_type": "code",
   "execution_count": null,
   "metadata": {},
   "outputs": [],
   "source": [
    "# ecasound needs this strange conversion\n",
    "fstimulus_orig = \"../data/stimulus_1s.wav\"\n",
    "fstimulus = \"../data/stimulus_1s_fp.wav\"\n",
    "writewav(xstimulus, fstimulus_orig)\n",
    "run(`sox $fstimulus_orig -e floating-point $fstimulus`)"
   ]
  },
  {
   "cell_type": "code",
   "execution_count": null,
   "metadata": {},
   "outputs": [],
   "source": [
    "function ecasound_ir(fstimulus, fresponse; s=2)\n",
    "    cmd = `ecasound -t:$s -f:16,2,44100 -a:1 -i $fstimulus -o alsa,pulse -a:2 -i alsa,pulse -o $fresponse`\n",
    "    run(pipeline(cmd, devnull))\n",
    "    readwav(fresponse)\n",
    "end\n",
    "\n",
    "fresponse = \"../data/response_1s.wav\"\n",
    "fresponse2 = \"../data/response_1s_2.wav\""
   ]
  },
  {
   "cell_type": "code",
   "execution_count": null,
   "metadata": {},
   "outputs": [],
   "source": [
    "xresponse = ecasound_ir(fstimulus, fresponse; s=2)[0s..1.5s, :]\n",
    "xresponse2 = ecasound_ir(fstimulus, fresponse2; s=2)[0s..1.5s, :]"
   ]
  },
  {
   "cell_type": "code",
   "execution_count": null,
   "metadata": {},
   "outputs": [],
   "source": [
    "xresponse = readwav(fresponse)\n",
    "xresponse2 = readwav(fresponse2)\n",
    "Xresponse = rfft(xresponse)\n",
    "Xresponse2 = rfft(xresponse2)\n",
    "\n",
    "# fix the mic measured channel using mic calibration file\n",
    "Xresponse[:, 2:2] .= miccalibrate(Xresponse[:, 2:2], calfile)\n",
    "Xresponse2[:, 2:2] .= miccalibrate(Xresponse2[:, 2:2], calfile)\n",
    "xresponse = irfft(Xresponse)\n",
    "xresponse2 = irfft(Xresponse2)"
   ]
  },
  {
   "cell_type": "code",
   "execution_count": null,
   "metadata": {},
   "outputs": [],
   "source": [
    "plot(xresponse[:, 1:1])\n",
    "plot!(50xresponse[:, 2:2])"
   ]
  },
  {
   "cell_type": "code",
   "execution_count": null,
   "metadata": {},
   "outputs": [],
   "source": [
    "# both responses are not aligned due to varying processing delays\n",
    "plot(xresponse[30000:30100, 1:1], m=:x)\n",
    "plot!(xresponse2[30000:30100, 1:1], m=:+)\n",
    "\n",
    "# plot!(100xresponse[:, 2:2])"
   ]
  },
  {
   "cell_type": "code",
   "execution_count": null,
   "metadata": {},
   "outputs": [],
   "source": [
    "# sample difference caused by processing delay\n",
    "DSP.finddelay(xresponse[:, 2:2], xresponse2[:, 2:2])"
   ]
  },
  {
   "cell_type": "code",
   "execution_count": null,
   "metadata": {},
   "outputs": [],
   "source": [
    "# loopback vs mic - should be same for both recordings for the same distance\n",
    "@show tdiff = DSP.finddelay(xresponse[:, 2:2], xresponse[:, 1:1]);\n",
    "@show tdiff2 = DSP.finddelay(xresponse2[:, 2:2], xresponse2[:, 1:1]);"
   ]
  },
  {
   "cell_type": "code",
   "execution_count": null,
   "metadata": {},
   "outputs": [],
   "source": [
    "# distance in ms\n",
    "uconvert(u\"ms\", tdiff/samplerate)"
   ]
  },
  {
   "cell_type": "code",
   "execution_count": null,
   "metadata": {},
   "outputs": [],
   "source": [
    "# distance in mm\n",
    "uconvert(u\"mm\", c * tdiff/samplerate)"
   ]
  },
  {
   "cell_type": "code",
   "execution_count": null,
   "metadata": {},
   "outputs": [],
   "source": [
    "# find loopback delay caused by the processing\n",
    "# shift signals, keeping only mic channel\n",
    "tdiff = DSP.finddelay(xstimulus, xresponse[:, 1:1])\n",
    "xresponse = DSP.shiftsignal(xresponse, tdiff)[:, 2:2]\n",
    "tdiff2 = DSP.finddelay(xstimulus, xresponse2[:, 1:1])\n",
    "xresponse2 = DSP.shiftsignal(xresponse2, tdiff2)[:, 2:2]"
   ]
  },
  {
   "cell_type": "code",
   "execution_count": null,
   "metadata": {},
   "outputs": [],
   "source": [
    "Xstimulus = rfft(xstimulus)\n",
    "Xresponse = rfft(xresponse)"
   ]
  },
  {
   "cell_type": "code",
   "execution_count": null,
   "metadata": {},
   "outputs": [],
   "source": [
    "h = analyze(stimulus, xresponse)\n",
    "H = rfft(h)"
   ]
  },
  {
   "cell_type": "code",
   "execution_count": null,
   "metadata": {},
   "outputs": [],
   "source": [
    "# This is a general function which gives IR based on stimulus and the recorded response, some additional filtering should be done\n",
    "# It is better to use \"analyze\" below which is \n",
    "function ir(xstimulus, xresponse; align=false)\n",
    "    @assert nchannels(xstimulus) == 1\n",
    "    @assert nchannels(xresponse) == 1\n",
    "    if align\n",
    "        xr, shift = alignsignals(data(xresponse)[:], data(xstimulus)[:])\n",
    "        xresponse = SampleArray(reshape(xr, :, 1), xresponse.rate)\n",
    "    end\n",
    "    \n",
    "    @assert nframes(xresponse) >= nframes(xstimulus)\n",
    "\n",
    "    xstimulus = rpad(xstimulus, nframes(xresponse) - nframes(xstimulus))\n",
    "    Xstimulus = rfft(xstimulus)\n",
    "    Xresponse = rfft(xresponse)\n",
    "    H = Xresponse ./ Xstimulus\n",
    "    h = irfft(H)\n",
    "    h, H\n",
    "end\n",
    "\n",
    "h2, H2 = ir(xstimulus, xresponse2; align=false)"
   ]
  },
  {
   "cell_type": "code",
   "execution_count": null,
   "metadata": {},
   "outputs": [],
   "source": [
    "plot(h[0ms..10ms, :]; label=\"Farina\")\n",
    "plot!(h2[0ms..10ms, :]; label=\"general\")"
   ]
  },
  {
   "cell_type": "code",
   "execution_count": null,
   "metadata": {},
   "outputs": [],
   "source": [
    "plot(H; label=\"Farina\")\n",
    "plot!(H2; label=\"general\")"
   ]
  },
  {
   "cell_type": "markdown",
   "metadata": {},
   "source": [
    "## Remote Table Control"
   ]
  },
  {
   "cell_type": "code",
   "execution_count": null,
   "metadata": {},
   "outputs": [],
   "source": [
    "function make_API_call(url)\n",
    "    try\n",
    "        response = HTTP.get(url)\n",
    "        return JSON.parse(String(response.body))\n",
    "    catch e\n",
    "        return \"error occurred : $e\"\n",
    "    end\n",
    "end\n",
    "\n",
    "table_url = \"http://192.168.0.17:5000\"\n",
    "make_API_call(\"$(table_url)/state\")"
   ]
  },
  {
   "cell_type": "code",
   "execution_count": null,
   "metadata": {},
   "outputs": [],
   "source": [
    "make_API_call(\"$(table_url)/reset\")"
   ]
  },
  {
   "cell_type": "code",
   "execution_count": null,
   "metadata": {},
   "outputs": [],
   "source": [
    "make_API_call(\"$(table_url)/rotate/-355\")"
   ]
  },
  {
   "cell_type": "code",
   "execution_count": null,
   "metadata": {},
   "outputs": [],
   "source": [
    "make_API_call(\"$(table_url)/rotateto/0\")"
   ]
  },
  {
   "cell_type": "code",
   "execution_count": null,
   "metadata": {},
   "outputs": [],
   "source": [
    "make_API_call(\"$(table_url)/speed/0.1\")"
   ]
  },
  {
   "cell_type": "markdown",
   "metadata": {},
   "source": [
    "## Measure Sequence"
   ]
  },
  {
   "cell_type": "code",
   "execution_count": null,
   "metadata": {},
   "outputs": [],
   "source": [
    "function measure(stimulus, fstimulus, fresponse; postduration=1s, c = 344m/s)  \n",
    "    #TODO fix API so stimulus is not always converted....\n",
    "    xstimulus = SampleArray(stimulus.sig, stimulus.samplerate)\n",
    "    duration = getduration(xstimulus)\n",
    "    xresponse = ecasound_ir(fstimulus, fresponse; s=(duration + postduration))\n",
    "    measure_info(xresponse)\n",
    "    xresponse\n",
    "end\n",
    "\n",
    "function measure_info(xresponse)\n",
    "    resp_duration = tdiff = uconvert(u\"s\", getduration(xresponse))\n",
    "    tdiff_samples = DSP.finddelay(xresponse[:, 2:2], xresponse[:, 1:1]);\n",
    "    tdiff = uconvert(u\"ms\", tdiff_samples/rateHz(xresponse))\n",
    "    tdiff_distance = uconvert(u\"mm\", c * tdiff)\n",
    "    @info \"recorded $(nframes(xresponse)) samples ($(resp_duration)); mic lags the loopback by $(tdiff_samples) samples ≈ $(tdiff) ≈ $(tdiff_distance)\" \n",
    "end\n",
    "\n",
    "function calibrate(xresponse; calfile=\"../data/34Q956_cal_0degree.txt\")\n",
    "    # TODO make this more general, e.g., sound card calibration\n",
    "    Xresponse = rfft(xresponse)\n",
    "    Xresponse[:, 2:2] .= miccalibrate(Xresponse[:, 2:2], calfile)\n",
    "    xresponse = irfft(Xresponse)\n",
    "    xresponse, Xresponse\n",
    "end\n",
    "\n",
    "function compute_ir(stimulus, xresponse, fimpulse; noncausal=true)\n",
    "    # find loopback delay caused by the processing\n",
    "    # shift signals, keeping only the mic channel\n",
    "    tdiff = DSP.finddelay(xstimulus, xresponse[:, 1:1])\n",
    "    xresponse = DSP.shiftsignal(xresponse, tdiff)[:, 2:2]\n",
    "    \n",
    "    h = analyze(stimulus, xresponse, noncausal=noncausal)\n",
    "    writewav(h, fimpulse)\n",
    "    H = rfft(h)\n",
    "    h, H\n",
    "end"
   ]
  },
  {
   "cell_type": "code",
   "execution_count": null,
   "metadata": {},
   "outputs": [],
   "source": [
    "c = 344m/s\n",
    "samplerate = 44100Hz\n",
    "\n",
    "# minfreq=1Hz  # woofers\n",
    "minfreq = 800Hz # tweeter\n",
    "\n",
    "calfile = \"../data/34Q956_cal_0degree.txt\"\n",
    "duration = 5s\n",
    "# driver = \"R_W\"\n",
    "driver = \"R_T\"\n",
    "orientation = \"hor\"\n",
    "# orientation = \"ver\"\n",
    "projectdir = \"../data/midtweet/$(driver)/$(orientation)\"\n",
    "\n",
    "mkpath(projectdir)\n",
    "stimulus = expsweep(duration; samplerate=samplerate, gain=0.9, optimize=false, minfreq=minfreq)\n",
    "xstimulus = 0.9SampleArray(stimulus.sig, stimulus.samplerate)\n",
    "# ecasound needs this strange conversion\n",
    "fstimulus_orig = joinpath(projectdir, \"stimulus_1s.wav\")\n",
    "fstimulus = joinpath(projectdir, \"stimulus_1s_fp.wav\")\n",
    "writewav(xstimulus, fstimulus_orig)\n",
    "run(`sox $fstimulus_orig -e floating-point $fstimulus`)"
   ]
  },
  {
   "cell_type": "code",
   "execution_count": null,
   "metadata": {},
   "outputs": [],
   "source": [
    "xresponse = measure(stimulus, fstimulus,\n",
    "        joinpath(projectdir,  \"response_init.wav\"); \n",
    "        postduration=1s, c = 344m/s);\n",
    "\n",
    "xresponse, _ = calibrate(xresponse; calfile=\"../data/34Q956_cal_0degree.txt\")\n",
    "\n",
    "h, H = compute_ir(stimulus, xresponse, joinpath(projectdir, \"ir_init.wav\"); noncausal=true)"
   ]
  },
  {
   "cell_type": "code",
   "execution_count": null,
   "metadata": {},
   "outputs": [],
   "source": [
    "xresponse = readwav(joinpath(projectdir,  \"response_init.wav\"))\n",
    "measure_info(xresponse)"
   ]
  },
  {
   "cell_type": "markdown",
   "metadata": {},
   "source": [
    "* **Midtweet R_W horizontal:** recorded 258048 samples (5.851428571428571 s); mic lags the loopback by 131 samples ≈ 2.9705215419501134 ms ≈ 1021.859410430839 mm\n",
    "* **Midtweet R_T horizontal:** recorded 258048 samples (5.851428571428571 s); mic lags the loopback by 129 samples ≈ 2.925170068027211 ms ≈ 1006.2585034013606 mm\n",
    "* **Midtweet R_W vertical:** recorded 258048 samples (5.851428571428571 s); mic lags the loopback by 131 samples ≈ 2.9705215419501134 ms ≈ 1021.859410430839 mm\n",
    "* not moving mic\n",
    "* **Midtweet R_T vertical:** recorded 258048 samples (5.851428571428571 s); mic lags the loopback by 130 samples ≈ 2.9478458049886624 ms ≈ 1014.0589569160999 mm"
   ]
  },
  {
   "cell_type": "code",
   "execution_count": null,
   "metadata": {},
   "outputs": [],
   "source": [
    "plot(h)"
   ]
  },
  {
   "cell_type": "code",
   "execution_count": null,
   "metadata": {},
   "outputs": [],
   "source": [
    "plot(h[duration-0ms..duration+10ms, :])"
   ]
  },
  {
   "cell_type": "code",
   "execution_count": null,
   "metadata": {},
   "outputs": [],
   "source": [
    "plot(H)"
   ]
  },
  {
   "cell_type": "code",
   "execution_count": null,
   "metadata": {},
   "outputs": [],
   "source": [
    "make_API_call(\"$(table_url)/speed/0.1\")"
   ]
  },
  {
   "cell_type": "code",
   "execution_count": null,
   "metadata": {},
   "outputs": [],
   "source": [
    "function measure_all(stimulus, fstimulus, rawdir; \n",
    "        response_template=\"response_{deg}.wav\",\n",
    "        degs=0:5:355, rate=44100Hz, duration=5s, speed=0.1)\n",
    "    make_API_call(\"$(table_url)/speed/$(speed)\")\n",
    "    mkpath(rawdir)\n",
    "    for deg in degs\n",
    "        @info \"measurement for $(deg)°\"\n",
    "        make_API_call(\"$(table_url)/rotateto/$(deg)\")\n",
    "        sleep(2) # wait for damping vibrations\n",
    "        fresponse = joinpath(rawdir, replace(response_template, \"{deg}\" => @sprintf(\"%03d\", deg)))\n",
    "        isfile(fresponse) && error(\"response file already exists: $(fresponse)!\")\n",
    "        \n",
    "        measure(stimulus, fstimulus, fresponse; postduration=1s, c = 344m/s) \n",
    "    end\n",
    "end"
   ]
  },
  {
   "cell_type": "code",
   "execution_count": null,
   "metadata": {},
   "outputs": [],
   "source": [
    "# sleep(10) # run away :)\n",
    "\n",
    "measure_all(stimulus, fstimulus,\n",
    "    joinpath(projectdir, \"raw\"); \n",
    "    degs=0:5:355, rate=44100Hz, duration=duration)"
   ]
  },
  {
   "cell_type": "code",
   "execution_count": null,
   "metadata": {},
   "outputs": [],
   "source": [
    "function postprocess(rawdir, stimulus, irdir; \n",
    "    response_template=r\"response_(\\d\\d\\d).wav\", \n",
    "    ir_template=\"ir_{deg}.wav\",\n",
    "    calfile=\"../data/34Q956_cal_0degree.txt\")\n",
    "    \n",
    "    mkpath(irdir)\n",
    "    \n",
    "    for f in readdir(rawdir)\n",
    "        fpath = joinpath(rawdir, f)\n",
    "        if isfile(fpath)\n",
    "            m = match(response_template, f)\n",
    "            if !isnothing(m)\n",
    "                deg = parse(Int, m.captures[1])\n",
    "                if deg < 0\n",
    "                    deg = 360 - deg\n",
    "                end\n",
    "                @info \"processing: $fpath\"\n",
    "                xresponse = readwav(fpath)\n",
    "                if !isnothing(calfile)\n",
    "                    xresponse, _ = calibrate(xresponse; calfile=calfile)\n",
    "                end\n",
    "                fimpulse = joinpath(irdir, replace(ir_template, \"{deg}\" => @sprintf(\"%03d\", deg)))\n",
    "                isfile(fimpulse) && error(\"impulse file already exists: $(fimpulse)!\")\n",
    "\n",
    "                h, H = compute_ir(stimulus, xresponse, fimpulse; noncausal=true)\n",
    "            end\n",
    "        end\n",
    "    end\n",
    "end\n",
    "    \n",
    "postprocess(\n",
    "        joinpath(projectdir, \"raw\"),\n",
    "        stimulus,\n",
    "        joinpath(projectdir, \"ir\"), \n",
    "        calfile=\"../data/34Q956_cal_0degree.txt\")"
   ]
  },
  {
   "cell_type": "markdown",
   "metadata": {},
   "source": [
    "## Analysis"
   ]
  },
  {
   "cell_type": "code",
   "execution_count": null,
   "metadata": {},
   "outputs": [],
   "source": [
    "projectdir"
   ]
  },
  {
   "cell_type": "code",
   "execution_count": null,
   "metadata": {},
   "outputs": [],
   "source": [
    "irs = [(deg, readwav(joinpath(projectdir, replace(\"ir/ir_{deg}.wav\", \"{deg}\" => @sprintf(\"%03d\", deg)))))\n",
    "    for deg in 0:10:355];"
   ]
  },
  {
   "cell_type": "code",
   "execution_count": null,
   "metadata": {},
   "outputs": [],
   "source": [
    "peakidx = irfirstbig(irs[1][2], 0.3)"
   ]
  },
  {
   "cell_type": "code",
   "execution_count": null,
   "metadata": {},
   "outputs": [],
   "source": [
    "plot(\n",
    "    [plot(ir[peakidx-200:peakidx+400,:], label=\"$(deg)°\") for (deg, ir) in irs]..., \n",
    "    layout=(length(irs), 1), size=(1200, 200length(irs))\n",
    ")"
   ]
  },
  {
   "cell_type": "markdown",
   "metadata": {},
   "source": [
    "Find the quasi anechoic setup based on the 0° IR."
   ]
  },
  {
   "cell_type": "code",
   "execution_count": null,
   "metadata": {},
   "outputs": [],
   "source": [
    "x0 = readwav(joinpath(projectdir, \"ir/ir_000.wav\"))"
   ]
  },
  {
   "cell_type": "code",
   "execution_count": null,
   "metadata": {},
   "outputs": [],
   "source": [
    "peakidx = irfirstbig(x0, 0.3)"
   ]
  },
  {
   "cell_type": "code",
   "execution_count": null,
   "metadata": {},
   "outputs": [],
   "source": [
    "x0b = x0[peakidx-100:peakidx+100,:]"
   ]
  },
  {
   "cell_type": "code",
   "execution_count": null,
   "metadata": {},
   "outputs": [],
   "source": [
    "plot(x0b)\n",
    "vline!([domain(x0b)[irfirstbig(x0b, 0.3)]])"
   ]
  },
  {
   "cell_type": "code",
   "execution_count": null,
   "metadata": {},
   "outputs": [],
   "source": [
    "function load_farfield(fimpulse; peakf=x->peakidx, post=4.0ms)\n",
    "    x = readwav(fimpulse)\n",
    "    x = quasi_anechoic(x, peakf; post=post, pre=125ms, cut=true)\n",
    "    X = rfft(x)\n",
    "    return (x=x, X=X)\n",
    "end\n",
    "\n",
    "x, X = load_farfield(joinpath(projectdir, \"ir/ir_000.wav\"))"
   ]
  },
  {
   "cell_type": "code",
   "execution_count": null,
   "metadata": {},
   "outputs": [],
   "source": [
    "plot(x)\n",
    "# plot(x[5s-5ms..5s+5ms,:])"
   ]
  },
  {
   "cell_type": "code",
   "execution_count": null,
   "metadata": {},
   "outputs": [],
   "source": [
    "plot(X; xlims=(1000,Inf), ylims=(-50,Inf))"
   ]
  },
  {
   "cell_type": "code",
   "execution_count": null,
   "metadata": {},
   "outputs": [],
   "source": [
    "ds"
   ]
  },
  {
   "cell_type": "code",
   "execution_count": null,
   "metadata": {},
   "outputs": [],
   "source": [
    "directivitymap(ds; levels=30)"
   ]
  },
  {
   "cell_type": "code",
   "execution_count": null,
   "metadata": {},
   "outputs": [],
   "source": [
    "directivityplot(ds, [10000Hz]; minclip=-80)"
   ]
  },
  {
   "cell_type": "code",
   "execution_count": null,
   "metadata": {},
   "outputs": [],
   "source": [
    "ds[:, 0..45].angles"
   ]
  },
  {
   "cell_type": "code",
   "execution_count": null,
   "metadata": {},
   "outputs": [],
   "source": [
    "plot(ds[0.0, 45.0].spectrum; xlims=(1000, Inf), ylims=(-50,Inf))"
   ]
  },
  {
   "cell_type": "code",
   "execution_count": null,
   "metadata": {},
   "outputs": [],
   "source": [
    "ds[0.0, 45.0]"
   ]
  },
  {
   "cell_type": "code",
   "execution_count": null,
   "metadata": {},
   "outputs": [],
   "source": []
  }
 ],
 "metadata": {
  "kernelspec": {
   "display_name": "Julia 1.5.1",
   "language": "julia",
   "name": "julia-1.5"
  },
  "language_info": {
   "file_extension": ".jl",
   "mimetype": "application/julia",
   "name": "julia",
   "version": "1.5.1"
  }
 },
 "nbformat": 4,
 "nbformat_minor": 4
}
